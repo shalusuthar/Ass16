{
 "cells": [
  {
   "cell_type": "markdown",
   "id": "d4d91945-29c6-4268-addb-5181926f37da",
   "metadata": {},
   "source": [
    "Q1. Explain GET and POST methods.\n",
    "\n",
    "Ans. GET requests are intended to retrieve data from a server and do not modify the server's state. On the other hand, POST requests are used to send data to the server for processing and may modify the server's state."
   ]
  },
  {
   "cell_type": "code",
   "execution_count": null,
   "id": "0bce7897-fcc5-4fa2-a552-a1a9328243f9",
   "metadata": {},
   "outputs": [],
   "source": []
  },
  {
   "cell_type": "markdown",
   "id": "5cb4e70c-6c43-4eab-a99f-c71eec95d173",
   "metadata": {},
   "source": [
    "Q2. Why is request used in Flask?\n",
    "\n",
    "Ans. The Request, in Flask, is an object that contains all the data sent from the Client to Server. This data can be recovered using the GET/POST Methods."
   ]
  },
  {
   "cell_type": "code",
   "execution_count": null,
   "id": "bfed87e1-73f1-42e2-a15c-d0af7ef45ce7",
   "metadata": {},
   "outputs": [],
   "source": []
  },
  {
   "cell_type": "markdown",
   "id": "98d8b562-3597-431f-92dc-faa167cc9bc3",
   "metadata": {},
   "source": [
    "Q3. Why is redirect() used in Flask?\n",
    "\n",
    "Ans. A redirect is used in the Flask class to send the user to a particular URL with the status code. conversely, this status code additionally identifies the issue."
   ]
  },
  {
   "cell_type": "code",
   "execution_count": null,
   "id": "8b05f75c-4a15-4e3f-b13c-dd4eb213830c",
   "metadata": {},
   "outputs": [],
   "source": []
  },
  {
   "cell_type": "markdown",
   "id": "70a3f44d-37f0-434a-92e0-3659214a1eb0",
   "metadata": {},
   "source": [
    "Q4. What are templates in Flask? Why is the render_template() function used?\n",
    "\n",
    "Ans.Templates are files that contain static data as well as placeholders for dynamic data. A template is rendered with specific data to produce a final document. Flask uses the Jinja template library to render templates. In your application, you will use templates to render HTML which will display in the user's browser.\n",
    "\n",
    "render_template is a Flask function from the flask. templating package. render_template is used to generate output from a template file based on the Jinja2 engine that is found in the application's templates folder. Note that render_template is typically imported directly from the flask package instead of from flask"
   ]
  },
  {
   "cell_type": "code",
   "execution_count": null,
   "id": "0724b9ff-057b-4184-8fb4-222c626c77de",
   "metadata": {},
   "outputs": [],
   "source": []
  },
  {
   "cell_type": "markdown",
   "id": "de0dddbe-34ca-4f6e-a1b1-e18ca432d568",
   "metadata": {},
   "source": [
    "\n",
    "\n"
   ]
  }
 ],
 "metadata": {
  "kernelspec": {
   "display_name": "Python 3 (ipykernel)",
   "language": "python",
   "name": "python3"
  },
  "language_info": {
   "codemirror_mode": {
    "name": "ipython",
    "version": 3
   },
   "file_extension": ".py",
   "mimetype": "text/x-python",
   "name": "python",
   "nbconvert_exporter": "python",
   "pygments_lexer": "ipython3",
   "version": "3.10.8"
  }
 },
 "nbformat": 4,
 "nbformat_minor": 5
}
